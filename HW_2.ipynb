{
 "cells": [
  {
   "cell_type": "markdown",
   "metadata": {},
   "source": [
    "## Домашнее задание по теме урока: Масштабирование признаков. Регуляризация. Стохастический градиентный спуск.\n",
    "\n",
    "* [1. Постройте график зависимости весов всех признаков от lambda в L2-регуляризации (на данных из урока). Сделайте вывод:](#one)\n",
    "* [2. Можно ли к одному и тому же признаку применить сразу и нормализацию, и стандартизацию?](#two)\n",
    "* [3. Напишите функцию наподобие eval_model_reg2, но для применения L1-регуляризации](#three)"
   ]
  },
  {
   "cell_type": "code",
   "execution_count": 2,
   "metadata": {},
   "outputs": [],
   "source": [
    "import numpy as np\n",
    "import matplotlib.pyplot as plt"
   ]
  },
  {
   "cell_type": "code",
   "execution_count": 3,
   "metadata": {},
   "outputs": [],
   "source": [
    "X = np.array([[1, 1, 1, 1, 1, 1, 1, 1, 1, 1],\n",
    "              [1, 1, 2, 5, 3, 0, 5, 10, 1, 2],\n",
    "              [500, 700, 750, 600, 1450, 800, 1500, 2000, 450, 1000],\n",
    "              [1, 1, 2, 1, 2, 1, 3, 3, 1, 2]])"
   ]
  },
  {
   "cell_type": "code",
   "execution_count": 4,
   "metadata": {},
   "outputs": [],
   "source": [
    "y = [45, 55, 50, 55, 60, 35, 75, 80, 50, 60]"
   ]
  },
  {
   "cell_type": "code",
   "execution_count": 5,
   "metadata": {},
   "outputs": [
    {
     "data": {
      "text/plain": [
       "(0, 10)"
      ]
     },
     "execution_count": 5,
     "metadata": {},
     "output_type": "execute_result"
    }
   ],
   "source": [
    "X[1].min(), X[1].max()"
   ]
  },
  {
   "cell_type": "code",
   "execution_count": 6,
   "metadata": {},
   "outputs": [
    {
     "data": {
      "text/plain": [
       "(450, 2000)"
      ]
     },
     "execution_count": 6,
     "metadata": {},
     "output_type": "execute_result"
    }
   ],
   "source": [
    "X[2].min(), X[2].max()"
   ]
  },
  {
   "cell_type": "code",
   "execution_count": 7,
   "metadata": {},
   "outputs": [
    {
     "data": {
      "text/plain": [
       "array([[1.00e+00, 1.00e+00, 1.00e+00, 1.00e+00, 1.00e+00, 1.00e+00,\n",
       "        1.00e+00, 1.00e+00, 1.00e+00, 1.00e+00],\n",
       "       [1.00e+00, 1.00e+00, 2.00e+00, 5.00e+00, 3.00e+00, 0.00e+00,\n",
       "        5.00e+00, 1.00e+01, 1.00e+00, 2.00e+00],\n",
       "       [5.00e+02, 7.00e+02, 7.50e+02, 6.00e+02, 1.45e+03, 8.00e+02,\n",
       "        1.50e+03, 2.00e+03, 4.50e+02, 1.00e+03],\n",
       "       [1.00e+00, 1.00e+00, 2.00e+00, 1.00e+00, 2.00e+00, 1.00e+00,\n",
       "        3.00e+00, 3.00e+00, 1.00e+00, 2.00e+00]])"
      ]
     },
     "execution_count": 7,
     "metadata": {},
     "output_type": "execute_result"
    }
   ],
   "source": [
    "X_norm = X.copy()\n",
    "X_norm = X_norm.astype(np.float64)\n",
    "X_norm"
   ]
  },
  {
   "cell_type": "code",
   "execution_count": 8,
   "metadata": {},
   "outputs": [
    {
     "data": {
      "text/plain": [
       "array([[1.00e+00, 1.00e+00, 1.00e+00, 1.00e+00, 1.00e+00, 1.00e+00,\n",
       "        1.00e+00, 1.00e+00, 1.00e+00, 1.00e+00],\n",
       "       [1.00e-01, 1.00e-01, 2.00e-01, 5.00e-01, 3.00e-01, 0.00e+00,\n",
       "        5.00e-01, 1.00e+00, 1.00e-01, 2.00e-01],\n",
       "       [5.00e+02, 7.00e+02, 7.50e+02, 6.00e+02, 1.45e+03, 8.00e+02,\n",
       "        1.50e+03, 2.00e+03, 4.50e+02, 1.00e+03],\n",
       "       [1.00e+00, 1.00e+00, 2.00e+00, 1.00e+00, 2.00e+00, 1.00e+00,\n",
       "        3.00e+00, 3.00e+00, 1.00e+00, 2.00e+00]])"
      ]
     },
     "execution_count": 8,
     "metadata": {},
     "output_type": "execute_result"
    }
   ],
   "source": [
    "X_norm[1] = (X[1] - X[1].min()) / (X[1].max() - X[1].min())\n",
    "X_norm"
   ]
  },
  {
   "cell_type": "code",
   "execution_count": 9,
   "metadata": {},
   "outputs": [
    {
     "data": {
      "text/plain": [
       "array([[1.        , 1.        , 1.        , 1.        , 1.        ,\n",
       "        1.        , 1.        , 1.        , 1.        , 1.        ],\n",
       "       [0.1       , 0.1       , 0.2       , 0.5       , 0.3       ,\n",
       "        0.        , 0.5       , 1.        , 0.1       , 0.2       ],\n",
       "       [0.03225806, 0.16129032, 0.19354839, 0.09677419, 0.64516129,\n",
       "        0.22580645, 0.67741935, 1.        , 0.        , 0.35483871],\n",
       "       [1.        , 1.        , 2.        , 1.        , 2.        ,\n",
       "        1.        , 3.        , 3.        , 1.        , 2.        ]])"
      ]
     },
     "execution_count": 9,
     "metadata": {},
     "output_type": "execute_result"
    }
   ],
   "source": [
    "X_norm[2] = (X[2] - X[2].min()) / (X[2].max() - X[2].min())\n",
    "X_norm"
   ]
  },
  {
   "cell_type": "code",
   "execution_count": 10,
   "metadata": {},
   "outputs": [
    {
     "data": {
      "image/png": "[encoded data removed]",
      "text/plain": [
       "<Figure size 432x288 with 1 Axes>"
      ]
     },
     "metadata": {
      "needs_background": "light"
     },
     "output_type": "display_data"
    }
   ],
   "source": [
    "plt.hist(X[1])\n",
    "plt.show()"
   ]
  },
  {
   "cell_type": "code",
   "execution_count": 11,
   "metadata": {},
   "outputs": [
    {
     "data": {
      "image/png": "[encoded data removed]",
      "text/plain": [
       "<Figure size 432x288 with 1 Axes>"
      ]
     },
     "metadata": {
      "needs_background": "light"
     },
     "output_type": "display_data"
    }
   ],
   "source": [
    "plt.hist(X[2])\n",
    "plt.show()"
   ]
  },
  {
   "cell_type": "code",
   "execution_count": 12,
   "metadata": {},
   "outputs": [
    {
     "name": "stdout",
     "output_type": "stream",
     "text": [
      "3.0 2.8284271247461903\n"
     ]
    }
   ],
   "source": [
    "X_st = X.copy().astype(np.float64)\n",
    "X1_mean = X[1].mean()\n",
    "X1_std = X[1].std()\n",
    "print(X1_mean, X1_std)"
   ]
  },
  {
   "cell_type": "code",
   "execution_count": 13,
   "metadata": {},
   "outputs": [
    {
     "data": {
      "text/plain": [
       "array([[ 1.00000000e+00,  1.00000000e+00,  1.00000000e+00,\n",
       "         1.00000000e+00,  1.00000000e+00,  1.00000000e+00,\n",
       "         1.00000000e+00,  1.00000000e+00,  1.00000000e+00,\n",
       "         1.00000000e+00],\n",
       "       [-7.07106781e-01, -7.07106781e-01, -3.53553391e-01,\n",
       "         7.07106781e-01,  0.00000000e+00, -1.06066017e+00,\n",
       "         7.07106781e-01,  2.47487373e+00, -7.07106781e-01,\n",
       "        -3.53553391e-01],\n",
       "       [ 5.00000000e+02,  7.00000000e+02,  7.50000000e+02,\n",
       "         6.00000000e+02,  1.45000000e+03,  8.00000000e+02,\n",
       "         1.50000000e+03,  2.00000000e+03,  4.50000000e+02,\n",
       "         1.00000000e+03],\n",
       "       [ 1.00000000e+00,  1.00000000e+00,  2.00000000e+00,\n",
       "         1.00000000e+00,  2.00000000e+00,  1.00000000e+00,\n",
       "         3.00000000e+00,  3.00000000e+00,  1.00000000e+00,\n",
       "         2.00000000e+00]])"
      ]
     },
     "execution_count": 13,
     "metadata": {},
     "output_type": "execute_result"
    }
   ],
   "source": [
    "X_st[1] = (X[1] - X1_mean) / X1_std\n",
    "X_st"
   ]
  },
  {
   "cell_type": "code",
   "execution_count": 14,
   "metadata": {},
   "outputs": [
    {
     "data": {
      "image/png": "[encoded data removed]",
      "text/plain": [
       "<Figure size 432x288 with 1 Axes>"
      ]
     },
     "metadata": {
      "needs_background": "light"
     },
     "output_type": "display_data"
    }
   ],
   "source": [
    "plt.hist(X_st[1])\n",
    "plt.show()"
   ]
  },
  {
   "cell_type": "code",
   "execution_count": 20,
   "metadata": {},
   "outputs": [],
   "source": [
    "def calc_std_fit(x):\n",
    "    res = (x - x.mean()) / x.std()\n",
    "    return res"
   ]
  },
  {
   "cell_type": "code",
   "execution_count": 21,
   "metadata": {},
   "outputs": [],
   "source": [
    "X_st[2] = calc_std_fit(X[2])"
   ]
  },
  {
   "cell_type": "code",
   "execution_count": 22,
   "metadata": {},
   "outputs": [
    {
     "data": {
      "text/plain": [
       "array([[ 1.        ,  1.        ,  1.        ,  1.        ,  1.        ,\n",
       "         1.        ,  1.        ,  1.        ,  1.        ,  1.        ],\n",
       "       [-0.70710678, -0.70710678, -0.35355339,  0.70710678,  0.        ,\n",
       "        -1.06066017,  0.70710678,  2.47487373, -0.70710678, -0.35355339],\n",
       "       [-0.97958969, -0.56713087, -0.46401617, -0.77336028,  0.97958969,\n",
       "        -0.36090146,  1.08270439,  2.11385144, -1.08270439,  0.05155735],\n",
       "       [-0.89625816, -0.89625816,  0.38411064, -0.89625816,  0.38411064,\n",
       "        -0.89625816,  1.66447944,  1.66447944, -0.89625816,  0.38411064]])"
      ]
     },
     "execution_count": 22,
     "metadata": {},
     "output_type": "execute_result"
    }
   ],
   "source": [
    "X_st[3] = calc_std_fit(X[3])\n",
    "X_st"
   ]
  },
  {
   "cell_type": "raw",
   "metadata": {},
   "source": [
    "SGD (Stochastic gradient descent)"
   ]
  },
  {
   "cell_type": "code",
   "execution_count": 23,
   "metadata": {},
   "outputs": [],
   "source": [
    "def calc_mse(y, y_pred):\n",
    "    err = np.mean((y - y_pred)**2)\n",
    "    return err"
   ]
  },
  {
   "cell_type": "code",
   "execution_count": 24,
   "metadata": {},
   "outputs": [],
   "source": [
    "def eval_model(X, y, iterations, alpha=1e-4):\n",
    "    W = np.random.randn(X.shape[0])\n",
    "    n = X.shape[1]\n",
    "    for i in range(1, iterations+1):\n",
    "        y_pred = np.dot(W, X)\n",
    "        err = calc_mse(y, y_pred)\n",
    "        W -= (alpha * (1/n * 2 * np.dot((y_pred - y), X.T)))\n",
    "        if i % (iterations / 10) == 0:\n",
    "            print(i, W, err)\n",
    "    return W"
   ]
  },
  {
   "cell_type": "code",
   "execution_count": 25,
   "metadata": {},
   "outputs": [
    {
     "name": "stdout",
     "output_type": "stream",
     "text": [
      "500 [56.49764487  5.97618072  1.13002887  5.36271668] 25.291912923772255\n",
      "1000 [56.4999999   6.19170478  0.17666175  6.13242708] 24.95477155270131\n",
      "1500 [56.5         6.26332144 -0.16462273  6.41324136] 24.91111649186897\n",
      "2000 [56.5         6.28879432 -0.28736942  6.51451066] 24.90546069427312\n",
      "2500 [56.5         6.29794747 -0.33154615  6.55097155] 24.904727941020887\n",
      "3000 [56.5         6.30124127 -0.34744694  6.56409584] 24.904633007028735\n",
      "3500 [56.5         6.3024268  -0.35317029  6.56881984] 24.9046207075775\n",
      "4000 [56.5         6.30285352 -0.35523035  6.57052021] 24.904619114086067\n",
      "4500 [56.5         6.30300712 -0.35597186  6.57113224] 24.904618907636642\n",
      "5000 [56.5         6.3030624  -0.35623876  6.57135254] 24.90461888088946\n"
     ]
    },
    {
     "data": {
      "text/plain": [
       "array([56.5       ,  6.3030624 , -0.35623876,  6.57135254])"
      ]
     },
     "execution_count": 25,
     "metadata": {},
     "output_type": "execute_result"
    }
   ],
   "source": [
    "eval_model(X_st, y, iterations=5000, alpha=1e-2)"
   ]
  },
  {
   "cell_type": "code",
   "execution_count": 26,
   "metadata": {},
   "outputs": [],
   "source": [
    "def eval_sgd_model(X, y, iterations, qty_in_batch, alpha=1e-4):\n",
    "    W = np.random.randn(X.shape[0])\n",
    "    n = X.shape[1]\n",
    "    n_batch = n // qty_in_batch\n",
    "    \n",
    "    if n % qty_in_batch != 0:\n",
    "        n_batch += 1\n",
    "        \n",
    "    for i in range(1, iterations+1):\n",
    "        for b in range(n_batch):\n",
    "            start_ = qty_in_batch*b\n",
    "            end_ = qty_in_batch*(b+1)\n",
    "#             print(b, n_batch, start_, end_)\n",
    "            X_tmp = X[:, start_ : end_]\n",
    "            y_tmp = y[start_ : end_]\n",
    "\n",
    "            y_pred_tmp = np.dot(W, X_tmp)\n",
    "            err = calc_mse(y_tmp, y_pred_tmp)\n",
    "\n",
    "            W -= (alpha * (1/n * 2 * np.dot((y_pred_tmp - y_tmp), X_tmp.T)))\n",
    "        \n",
    "        if i % (iterations / 10) == 0:\n",
    "            print(i, W, err)\n",
    "    return W"
   ]
  },
  {
   "cell_type": "code",
   "execution_count": 27,
   "metadata": {},
   "outputs": [
    {
     "name": "stdout",
     "output_type": "stream",
     "text": [
      "5000 [56.51062031  6.31269315 -0.36444843  6.58450772] 11.289369280355015\n",
      "10000 [56.51062035  6.31272262 -0.3645908   6.58462533] 11.289182006128144\n",
      "15000 [56.51062035  6.31272262 -0.3645908   6.58462533] 11.289181999330378\n",
      "20000 [56.51062035  6.31272262 -0.3645908   6.58462533] 11.289181999330424\n",
      "25000 [56.51062035  6.31272262 -0.3645908   6.58462533] 11.289181999330424\n",
      "30000 [56.51062035  6.31272262 -0.3645908   6.58462533] 11.289181999330424\n",
      "35000 [56.51062035  6.31272262 -0.3645908   6.58462533] 11.289181999330424\n",
      "40000 [56.51062035  6.31272262 -0.3645908   6.58462533] 11.289181999330424\n",
      "45000 [56.51062035  6.31272262 -0.3645908   6.58462533] 11.289181999330424\n",
      "50000 [56.51062035  6.31272262 -0.3645908   6.58462533] 11.289181999330424\n"
     ]
    },
    {
     "data": {
      "text/plain": [
       "array([56.51062035,  6.31272262, -0.3645908 ,  6.58462533])"
      ]
     },
     "execution_count": 27,
     "metadata": {},
     "output_type": "execute_result"
    }
   ],
   "source": [
    "eval_sgd_model(X_st, y, iterations=50000, qty_in_batch=4, alpha=1e-2)"
   ]
  },
  {
   "cell_type": "raw",
   "metadata": {},
   "source": [
    "L1 регуляризация"
   ]
  },
  {
   "cell_type": "raw",
   "metadata": {},
   "source": [
    "f(x, W) + (lambda_/2) * np.sum(np.abs(W))"
   ]
  },
  {
   "cell_type": "raw",
   "metadata": {},
   "source": [
    "L2 регуляризация"
   ]
  },
  {
   "cell_type": "code",
   "execution_count": 28,
   "metadata": {},
   "outputs": [],
   "source": [
    "# lambda = lambda_/2"
   ]
  },
  {
   "cell_type": "code",
   "execution_count": 51,
   "metadata": {},
   "outputs": [
    {
     "data": {
      "text/plain": [
       "array([[   1,    1,    1,    1,    1,    1,    1,    1,    1,    1],\n",
       "       [   1,    1,    2,    5,    3,    0,    5,   10,    1,    2],\n",
       "       [ 500,  700,  750,  600, 1450,  800, 1500, 2000,  450, 1000],\n",
       "       [   1,    1,    2,    1,    2,    1,    3,    3,    1,    2]])"
      ]
     },
     "execution_count": 51,
     "metadata": {},
     "output_type": "execute_result"
    }
   ],
   "source": [
    "X"
   ]
  },
  {
   "cell_type": "raw",
   "metadata": {},
   "source": [
    "f(x, W) + (lambda_/2) * np.sum(W**2)"
   ]
  },
  {
   "cell_type": "markdown",
   "metadata": {},
   "source": [
    "#### 1. Постройте график зависимости весов всех признаков от lambda в L2-регуляризации (на данных из урока). Сделайте вывод <a class=\"anchor\" id=\"one\"></a>"
   ]
  },
  {
   "cell_type": "code",
   "execution_count": 111,
   "metadata": {},
   "outputs": [
    {
     "data": {
      "text/plain": [
       "array([5.00000000e+01, 4.05565415e+01, 3.28966612e+01, 2.66834962e+01,\n",
       "       2.16438064e+01, 1.75559587e+01, 1.42401793e+01, 1.15506485e+01,\n",
       "       9.36908711e+00, 7.59955541e+00, 6.16423370e+00, 5.00000000e+00,\n",
       "       4.05565415e+00, 3.28966612e+00, 2.66834962e+00, 2.16438064e+00,\n",
       "       1.75559587e+00, 1.42401793e+00, 1.15506485e+00, 9.36908711e-01,\n",
       "       7.59955541e-01, 6.16423370e-01, 5.00000000e-01, 4.05565415e-01,\n",
       "       3.28966612e-01, 2.66834962e-01, 2.16438064e-01, 1.75559587e-01,\n",
       "       1.42401793e-01, 1.15506485e-01, 9.36908711e-02, 7.59955541e-02,\n",
       "       6.16423370e-02, 5.00000000e-02, 4.05565415e-02, 3.28966612e-02,\n",
       "       2.66834962e-02, 2.16438064e-02, 1.75559587e-02, 1.42401793e-02,\n",
       "       1.15506485e-02, 9.36908711e-03, 7.59955541e-03, 6.16423370e-03,\n",
       "       5.00000000e-03, 4.05565415e-03, 3.28966612e-03, 2.66834962e-03,\n",
       "       2.16438064e-03, 1.75559587e-03, 1.42401793e-03, 1.15506485e-03,\n",
       "       9.36908711e-04, 7.59955541e-04, 6.16423370e-04, 5.00000000e-04,\n",
       "       4.05565415e-04, 3.28966612e-04, 2.66834962e-04, 2.16438064e-04,\n",
       "       1.75559587e-04, 1.42401793e-04, 1.15506485e-04, 9.36908711e-05,\n",
       "       7.59955541e-05, 6.16423370e-05, 5.00000000e-05, 4.05565415e-05,\n",
       "       3.28966612e-05, 2.66834962e-05, 2.16438064e-05, 1.75559587e-05,\n",
       "       1.42401793e-05, 1.15506485e-05, 9.36908711e-06, 7.59955541e-06,\n",
       "       6.16423370e-06, 5.00000000e-06, 4.05565415e-06, 3.28966612e-06,\n",
       "       2.66834962e-06, 2.16438064e-06, 1.75559587e-06, 1.42401793e-06,\n",
       "       1.15506485e-06, 9.36908711e-07, 7.59955541e-07, 6.16423370e-07,\n",
       "       5.00000000e-07, 4.05565415e-07, 3.28966612e-07, 2.66834962e-07,\n",
       "       2.16438064e-07, 1.75559587e-07, 1.42401793e-07, 1.15506485e-07,\n",
       "       9.36908711e-08, 7.59955541e-08, 6.16423370e-08, 5.00000000e-08])"
      ]
     },
     "execution_count": 111,
     "metadata": {},
     "output_type": "execute_result"
    }
   ],
   "source": [
    "lambda_ = 10**np.linspace(2,-7,100)*0.5\n",
    "lambda_"
   ]
  },
  {
   "cell_type": "code",
   "execution_count": 112,
   "metadata": {},
   "outputs": [],
   "source": [
    "def eval_model_reg2(X, y, iterations, alpha=1e-4, lambda_=1e-8):\n",
    "    np.random.seed(42)\n",
    "    W = np.random.randn(X.shape[0])\n",
    "    n = X.shape[1]\n",
    "    for i in range(1, iterations+1):\n",
    "        y_pred = np.dot(W, X)\n",
    "        err = calc_mse(y, y_pred)\n",
    "        W -= alpha * (1/n * 2 * np.dot((y_pred - y), X.T) + lambda_ * W) \n",
    "#         if i % (iterations / 10) == 0:\n",
    "#             print(i, W, err)\n",
    "    return W"
   ]
  },
  {
   "cell_type": "code",
   "execution_count": 113,
   "metadata": {},
   "outputs": [
    {
     "data": {
      "text/plain": [
       "(100, 4)"
      ]
     },
     "execution_count": 113,
     "metadata": {},
     "output_type": "execute_result"
    }
   ],
   "source": [
    "coefs = []\n",
    "for a in lambda_:\n",
    "    W = eval_model_reg2(X_st, y, iterations=5000, alpha=1e-2, lambda_=a)\n",
    "    coefs.append(W)\n",
    "\n",
    "np.shape(coefs)"
   ]
  },
  {
   "cell_type": "code",
   "execution_count": 114,
   "metadata": {},
   "outputs": [
    {
     "data": {
      "text/plain": [
       "[array([2.17307692, 0.39247379, 0.37627465, 0.39228959]),\n",
       " array([2.65529096, 0.47396635, 0.45337512, 0.47333714]),\n",
       " array([3.23813213, 0.56998887, 0.54371091, 0.56863571]),\n",
       " array([3.93954765, 0.68212429, 0.64845886, 0.67963665]),\n",
       " array([4.77926431, 0.81172938, 0.76844522, 0.80751622]),\n",
       " array([5.77828998, 0.95976937, 0.90394954, 0.95299835]),\n",
       " array([6.95805124, 1.12664084, 1.05449488, 1.11616679]),\n",
       " array([8.33908429, 1.3120095 , 1.2186536 , 1.29629538]),\n",
       " array([9.93923249, 1.51469818, 1.39390835, 1.49173553]),\n",
       " array([11.77137848,  1.73266179,  1.57661021,  1.69990155]),\n",
       " array([13.84085809,  1.96307644,  1.7620665 ,  1.91738529]),\n",
       " array([16.14285714,  2.20254737,  1.94476797,  2.14020792]),\n",
       " array([18.66024663,  2.44741026,  2.11873362,  2.36418534]),\n",
       " array([21.36240688,  2.6940725 ,  2.27792218,  2.58535285]),\n",
       " array([24.20555642,  2.93932631,  2.41664317,  2.80037687]),\n",
       " array([27.13488745,  3.18057151,  2.52990511,  3.00688326]),\n",
       " array([30.08843443,  3.41591029,  2.61366166,  3.20365115]),\n",
       " array([33.00216359,  3.6441106 ,  2.66494767,  3.39064976]),\n",
       " array([35.81542864,  3.86446689,  2.68192528,  3.56892311]),\n",
       " array([38.4758299 ,  4.07660637,  2.66387495,  3.74034653]),\n",
       " array([40.9426885 ,  4.28029344,  2.61116621,  3.9072896 ]),\n",
       " array([43.18872905,  4.47527448,  2.52523031,  4.07222632]),\n",
       " array([45.2       ,  4.66118677,  2.40853779,  4.23733841]),\n",
       " array([46.97440331,  4.83753491,  2.26456488,  4.40416253]),\n",
       " array([48.5193731 ,  5.00372245,  2.09771959,  4.57333338]),\n",
       " array([49.84923998,  5.15911814,  1.91319599,  4.74446621]),\n",
       " array([50.9827014 ,  5.30313624,  1.71673735,  4.91620166]),\n",
       " array([51.94065963,  5.43531385,  1.51431255,  5.08640475]),\n",
       " array([52.74454136,  5.55537409,  1.31173852,  5.25247674]),\n",
       " array([53.41510452,  5.66326795,  1.11430388,  5.41171505]),\n",
       " array([53.97167345,  5.75919138,  0.92645471,  5.56165027]),\n",
       " array([54.4317158 ,  5.84357749,  0.75159008,  5.70030324]),\n",
       " array([54.81067107,  5.91706692,  0.59198862,  5.82633179]),\n",
       " array([55.12195122,  5.98046248,  0.44885779,  5.93906613]),\n",
       " array([55.3770492 ,  6.0346758 ,  0.32247573,  6.03845448]),\n",
       " array([55.5857079 ,  6.08067347,  0.21238557,  6.12495129]),\n",
       " array([55.75611595,  6.11942889,  0.11760436,  6.19938107]),\n",
       " array([5.58951085e+01, 6.15188339e+00, 3.68176875e-02, 6.26280346e+00]),\n",
       " array([ 5.60083598e+01,  6.17891829e+00, -3.14570705e-02,  6.31639609e+00]),\n",
       " array([56.10055899,  6.20133719, -0.0887454 ,  6.36136276]),\n",
       " array([56.17556788,  6.21985731, -0.13652751,  6.39886789]),\n",
       " array([56.2365574 ,  6.23510758, -0.17618217,  6.42999448]),\n",
       " array([56.28612524,  6.24763166, -0.20895583,  6.45572089]),\n",
       " array([56.32639547,  6.25789398, -0.23595004,  6.47691152]),\n",
       " array([56.35910224,  6.2662875 , -0.25812154,  6.49431703]),\n",
       " array([56.38565963,  6.27314211, -0.27628993,  6.50858049]),\n",
       " array([56.40721954,  6.27873297, -0.29114986,  6.52024699]),\n",
       " array([56.42471956,  6.28328839, -0.30328503,  6.52977457]),\n",
       " array([56.43892234,  6.28699704, -0.31318256,  6.53754553]),\n",
       " array([56.45044791,  6.29001425, -0.32124674,  6.5438772 ]),\n",
       " array([56.45980012,  6.29246756, -0.32781168,  6.54903182]),\n",
       " array([56.46738825,  6.29446146, -0.33315246,  6.55322532]),\n",
       " array([56.47354472,  6.29608136, -0.33749494,  6.55663501]),\n",
       " array([56.47853941,  6.29739704, -0.34102412,  6.55940614]),\n",
       " array([56.48259141,  6.29846535, -0.34389128,  6.56165747]),\n",
       " array([56.48587853,  6.29933264, -0.34621991,  6.56348594]),\n",
       " array([56.4885451 ,  6.30003661, -0.3481107 ,  6.56497063]),\n",
       " array([56.49070822,  6.30060795, -0.34964567,  6.56617593]),\n",
       " array([56.49246292,  6.30107159, -0.35089159,  6.56715426]),\n",
       " array([56.49388629,  6.30144781, -0.35190276,  6.56794826]),\n",
       " array([56.49504088,  6.30175306, -0.35272332,  6.56859259]),\n",
       " array([56.49597744,  6.30200072, -0.35338914,  6.56911541]),\n",
       " array([56.49673713,  6.30220165, -0.35392938,  6.56953962]),\n",
       " array([56.49735336,  6.30236465, -0.35436768,  6.5698838 ]),\n",
       " array([56.49785321,  6.30249689, -0.35472327,  6.57016302]),\n",
       " array([56.49825866,  6.30260416, -0.35501175,  6.57038954]),\n",
       " array([56.49858754,  6.30269117, -0.35524577,  6.5705733 ]),\n",
       " array([56.4988543 ,  6.30276176, -0.35543561,  6.57072238]),\n",
       " array([56.49907068,  6.30281902, -0.35558961,  6.5708433 ]),\n",
       " array([56.4992462 ,  6.30286547, -0.35571454,  6.5709414 ]),\n",
       " array([56.49938857,  6.30290314, -0.35581587,  6.57102097]),\n",
       " array([56.49950405,  6.30293371, -0.35589807,  6.57108552]),\n",
       " array([56.49959772,  6.30295849, -0.35596475,  6.57113787]),\n",
       " array([56.4996737 ,  6.3029786 , -0.35601883,  6.57118034]),\n",
       " array([56.49973532,  6.30299491, -0.3560627 ,  6.57121479]),\n",
       " array([56.49978531,  6.30300814, -0.35609829,  6.57124274]),\n",
       " array([56.49982586,  6.30301887, -0.35612716,  6.5712654 ]),\n",
       " array([56.49985875,  6.30302758, -0.35615057,  6.57128379]),\n",
       " array([56.49988543,  6.30303464, -0.35616956,  6.5712987 ]),\n",
       " array([56.49990707,  6.30304037, -0.35618497,  6.5713108 ]),\n",
       " array([56.49992462,  6.30304501, -0.35619746,  6.57132061]),\n",
       " array([56.49993886,  6.30304878, -0.3562076 ,  6.57132857]),\n",
       " array([56.4999504 ,  6.30305184, -0.35621582,  6.57133502]),\n",
       " array([56.49995977,  6.30305432, -0.35622249,  6.57134026]),\n",
       " array([56.49996737,  6.30305633, -0.3562279 ,  6.57134451]),\n",
       " array([56.49997353,  6.30305796, -0.35623228,  6.57134795]),\n",
       " array([56.49997853,  6.30305928, -0.35623584,  6.57135075]),\n",
       " array([56.49998259,  6.30306036, -0.35623873,  6.57135302]),\n",
       " array([56.49998588,  6.30306123, -0.35624107,  6.57135485]),\n",
       " array([56.49998854,  6.30306193, -0.35624297,  6.57135635]),\n",
       " array([56.49999071,  6.3030625 , -0.35624451,  6.57135756]),\n",
       " array([56.49999246,  6.30306297, -0.35624576,  6.57135854]),\n",
       " array([56.49999389,  6.30306335, -0.35624677,  6.57135933]),\n",
       " array([56.49999504,  6.30306365, -0.3562476 ,  6.57135998]),\n",
       " array([56.49999598,  6.3030639 , -0.35624826,  6.5713605 ]),\n",
       " array([56.49999674,  6.3030641 , -0.3562488 ,  6.57136093]),\n",
       " array([56.49999735,  6.30306426, -0.35624924,  6.57136127]),\n",
       " array([56.49999785,  6.3030644 , -0.3562496 ,  6.57136155]),\n",
       " array([56.49999826,  6.3030645 , -0.35624989,  6.57136178]),\n",
       " array([56.49999859,  6.30306459, -0.35625012,  6.57136196])]"
      ]
     },
     "execution_count": 114,
     "metadata": {},
     "output_type": "execute_result"
    }
   ],
   "source": [
    "coefs"
   ]
  },
  {
   "cell_type": "code",
   "execution_count": 116,
   "metadata": {},
   "outputs": [
    {
     "data": {
      "text/plain": [
       "Text(0, 0.5, 'weights')"
      ]
     },
     "execution_count": 116,
     "metadata": {},
     "output_type": "execute_result"
    },
    {
     "data": {
      "image/png": "[encoded data removed]",
      "text/plain": [
       "<Figure size 432x288 with 1 Axes>"
      ]
     },
     "metadata": {
      "needs_background": "light"
     },
     "output_type": "display_data"
    }
   ],
   "source": [
    "ax = plt.gca()\n",
    "ax.plot(lambda_, coefs)\n",
    "ax.set_xscale('log')\n",
    "plt.axis('tight')\n",
    "plt.xlabel('lambda_')\n",
    "plt.ylabel('weights')"
   ]
  },
  {
   "cell_type": "markdown",
   "metadata": {},
   "source": [
    "***ВЫВОД: с увеличением lambda_ веса снижаются***"
   ]
  },
  {
   "cell_type": "markdown",
   "metadata": {},
   "source": [
    "#### 2. Можно ли к одному и тому же признаку применить сразу и нормализацию, и стандартизацию? <a class=\"anchor\" id=\"two\"></a>"
   ]
  },
  {
   "cell_type": "markdown",
   "metadata": {},
   "source": [
    "Технически можно, но на практике в этом смысла великого нет. Рассмотернные методы нормализации / масштабирования являются достатоно взаипозаменяемыми. При выборе каждого из вариантов можноруководствоваться тем ,что необходимо получить. Если не хватает понимание какой-метод применить в данной конкретной задачи. МОжно сделать оба метода и на каждом проделать обучение и на тестовой выборке (или на кросс-валидации) сделать вывод ,что лучше."
   ]
  },
  {
   "cell_type": "markdown",
   "metadata": {},
   "source": [
    "#### 3. Напишите функцию наподобие eval_model_reg2, но для применения L1-регуляризации<a class=\"anchor\" id=\"three\"></a>"
   ]
  },
  {
   "cell_type": "code",
   "execution_count": 117,
   "metadata": {},
   "outputs": [],
   "source": [
    "def eval_model_reg1(X, y, iterations, alpha=1e-4, lambda_=1e-8):\n",
    "    np.random.seed(42)\n",
    "    W = np.random.randn(X.shape[0])\n",
    "    n = X.shape[1]\n",
    "    for i in range(1, iterations+1):\n",
    "        y_pred = np.dot(W, X)\n",
    "        err = calc_mse(y, y_pred)\n",
    "        W -= alpha * (1/n * 2 * np.dot((y_pred - y), X.T) + lambda_ * np.sign(W)) \n",
    "#         if i % (iterations / 10) == 0:\n",
    "#             print(i, W, err)\n",
    "    return W"
   ]
  }
 ],
 "metadata": {
  "kernelspec": {
   "display_name": "Python 3",
   "language": "python",
   "name": "python3"
  },
  "language_info": {
   "codemirror_mode": {
    "name": "ipython",
    "version": 3
   },
   "file_extension": ".py",
   "mimetype": "text/x-python",
   "name": "python",
   "nbconvert_exporter": "python",
   "pygments_lexer": "ipython3",
   "version": "3.8.1"
  }
 },
 "nbformat": 4,
 "nbformat_minor": 4
}
